{
 "cells": [
  {
   "cell_type": "markdown",
   "metadata": {},
   "source": [
    "# Modelo de predicción en OilyGiant"
   ]
  },
  {
   "cell_type": "markdown",
   "metadata": {},
   "source": [
    "La compañía minera OilyGiant quiere encontrar el mejor lugar para su próximo nuevo pozo. Para encontrar la mejor ubicación se debe realizar lo siguiente: \n",
    "- Recolectar los parámetros del pozo de petróleo en la región seleccionada: \n",
    "    - Calidad del petróleo y volumen de reservas. \n",
    "- Utilizar el modelo de regresión lineal para predecir el volumen de reservas en los nuevos pozos. \n",
    "- Seleccionar los pozos de petróleo con los valores estimados más altos. \n",
    "- Elegir la región con el mayor beneficio total para los pozos de petróleo seleccionados. \n",
    "\n",
    "Se tiene datos sobre las muestras de crudo de tres distintas regiones. En base a la información proporcionada, se debe crear un modelo que ayude a elegir la región con el mayor margen de beneficio, analizando los beneficios y riesgos potencionales utilizando la técnica de *bootstrapping*. "
   ]
  },
  {
   "cell_type": "markdown",
   "metadata": {
    "toc": true
   },
   "source": [
    "<h1>Tabla de Contenidos<span class=\"tocSkip\"></span></h1>\n",
    "<div class=\"toc\"><ul class=\"toc-item\"><li><span><a href=\"#Información-general-del-estudio\" data-toc-modified-id=\"Información-general-del-estudio-1\"><span class=\"toc-item-num\">1&nbsp;&nbsp;</span>Información general del estudio</a></span></li><li><span><a href=\"#Inicialización\" data-toc-modified-id=\"Inicialización-2\"><span class=\"toc-item-num\">2&nbsp;&nbsp;</span>Inicialización</a></span><ul class=\"toc-item\"><li><span><a href=\"#Librerías\" data-toc-modified-id=\"Librerías-2.1\"><span class=\"toc-item-num\">2.1&nbsp;&nbsp;</span>Librerías</a></span></li><li><span><a href=\"#Cargar-los-datos\" data-toc-modified-id=\"Cargar-los-datos-2.2\"><span class=\"toc-item-num\">2.2&nbsp;&nbsp;</span>Cargar los datos</a></span></li><li><span><a href=\"#Estudio-de-información-general\" data-toc-modified-id=\"Estudio-de-información-general-2.3\"><span class=\"toc-item-num\">2.3&nbsp;&nbsp;</span>Estudio de información general</a></span></li></ul></li><li><span><a href=\"#Aplicación-del-modelo-de-predicción\" data-toc-modified-id=\"Aplicación-del-modelo-de-predicción-3\"><span class=\"toc-item-num\">3&nbsp;&nbsp;</span>Aplicación del modelo de predicción</a></span><ul class=\"toc-item\"><li><span><a href=\"#Entrenamiento-e-implementación-del-modelo-para-cada-región\" data-toc-modified-id=\"Entrenamiento-e-implementación-del-modelo-para-cada-región-3.1\"><span class=\"toc-item-num\">3.1&nbsp;&nbsp;</span>Entrenamiento e implementación del modelo para cada región</a></span></li></ul></li><li><span><a href=\"#Volumen-de-reservas-para-el-equilibrio\" data-toc-modified-id=\"Volumen-de-reservas-para-el-equilibrio-4\"><span class=\"toc-item-num\">4&nbsp;&nbsp;</span>Volumen de reservas para el equilibrio</a></span></li><li><span><a href=\"#Cálculo-de-ganancias\" data-toc-modified-id=\"Cálculo-de-ganancias-5\"><span class=\"toc-item-num\">5&nbsp;&nbsp;</span>Cálculo de ganancias</a></span></li><li><span><a href=\"#Cálculo-de-riesgos-y-ganancias-para-cada-región\" data-toc-modified-id=\"Cálculo-de-riesgos-y-ganancias-para-cada-región-6\"><span class=\"toc-item-num\">6&nbsp;&nbsp;</span>Cálculo de riesgos y ganancias para cada región</a></span></li><li><span><a href=\"#Conclusiones\" data-toc-modified-id=\"Conclusiones-7\"><span class=\"toc-item-num\">7&nbsp;&nbsp;</span>Conclusiones</a></span></li></ul></div>"
   ]
  },
  {
   "cell_type": "markdown",
   "metadata": {},
   "source": [
    "## Información general del estudio"
   ]
  },
  {
   "cell_type": "markdown",
   "metadata": {},
   "source": [
    "Los datos de exploración geológica de las tres regiones se almacenan en tres distintos archivos: \n",
    "\n",
    "- `geo_data_0.csv` - Región 0\n",
    "- `geo_data_1.csv` - Región 1\n",
    "- `geo_data_2.csv` - Región 2\n",
    "\n",
    "En estos archivos, hay la siguiente información: \n",
    "- `id` - identificador único de pozo de petróleo. \n",
    "- `f0`,`f1`,`f2` - tres características de los puntos (su significado específico no es importante, pero las características en sí son significativas). \n",
    "- `product` - volumen de reservas en el pozo de petróleo (miles de barriles). "
   ]
  },
  {
   "cell_type": "markdown",
   "metadata": {},
   "source": [
    "## Inicialización"
   ]
  },
  {
   "cell_type": "markdown",
   "metadata": {},
   "source": [
    "### Librerías"
   ]
  },
  {
   "cell_type": "markdown",
   "metadata": {},
   "source": [
    "Se inicia cargando todas las librerías de Python que se utilizarán a lo largo del proyecto."
   ]
  },
  {
   "cell_type": "code",
   "execution_count": 1,
   "metadata": {},
   "outputs": [],
   "source": [
    "# cargar todas las librerías\n",
    "import pandas as pd\n",
    "import numpy as np\n",
    "from sklearn.model_selection import train_test_split\n",
    "from sklearn.linear_model import LinearRegression\n",
    "from sklearn.metrics import mean_squared_error"
   ]
  },
  {
   "cell_type": "markdown",
   "metadata": {},
   "source": [
    "### Cargar los datos"
   ]
  },
  {
   "cell_type": "markdown",
   "metadata": {},
   "source": [
    "Se carga los datos de los diferentes archivos"
   ]
  },
  {
   "cell_type": "code",
   "execution_count": 2,
   "metadata": {},
   "outputs": [],
   "source": [
    "# carga del archivo en DataFrame\n",
    "region_0 = pd.read_csv(\"/datasets/geo_data_0.csv\")\n",
    "region_1 = pd.read_csv(\"/datasets/geo_data_1.csv\")\n",
    "region_2 = pd.read_csv(\"/datasets/geo_data_2.csv\")"
   ]
  },
  {
   "cell_type": "markdown",
   "metadata": {},
   "source": [
    "### Estudio de información general"
   ]
  },
  {
   "cell_type": "markdown",
   "metadata": {},
   "source": [
    "Comenzamos a revisar el contenido de los archivos. Para esto creamos una función que nos indique el nombre de columnas y el número de filas por la cantidad de columnas. "
   ]
  },
  {
   "cell_type": "code",
   "execution_count": 3,
   "metadata": {},
   "outputs": [],
   "source": [
    "# función para enseñar las columnas, número de filas x columnas\n",
    "def show_columns(file_name, data_frame):\n",
    "    print(f\"Columnas de {file_name}:\")\n",
    "    print(data_frame.columns)\n",
    "    print(\"\")\n",
    "    print(f\"Filas y columnas de {file_name}: {data_frame.shape}\")\n",
    "    print(\"\\n\")"
   ]
  },
  {
   "cell_type": "code",
   "execution_count": 4,
   "metadata": {},
   "outputs": [
    {
     "name": "stdout",
     "output_type": "stream",
     "text": [
      "Columnas de region_0:\n",
      "Index(['id', 'f0', 'f1', 'f2', 'product'], dtype='object')\n",
      "\n",
      "Filas y columnas de region_0: (100000, 5)\n",
      "\n",
      "\n",
      "Columnas de region_1:\n",
      "Index(['id', 'f0', 'f1', 'f2', 'product'], dtype='object')\n",
      "\n",
      "Filas y columnas de region_1: (100000, 5)\n",
      "\n",
      "\n",
      "Columnas de region_2:\n",
      "Index(['id', 'f0', 'f1', 'f2', 'product'], dtype='object')\n",
      "\n",
      "Filas y columnas de region_2: (100000, 5)\n",
      "\n",
      "\n"
     ]
    }
   ],
   "source": [
    "# llamamos a la función para cada archivo\n",
    "show_columns(\"region_0\", region_0)\n",
    "show_columns(\"region_1\", region_1)\n",
    "show_columns(\"region_2\", region_2)"
   ]
  },
  {
   "cell_type": "markdown",
   "metadata": {},
   "source": [
    "Los tres archivos tienen la misma cantidad de filas y columnas (100,000 filas y 5 columnas), al igual que los mismos nombres. Ahora veamos de forma rápida las primeras 5 filas, la información general de cada uno de los archivos y un resumen estadístico de los datos de cada tabla. "
   ]
  },
  {
   "cell_type": "code",
   "execution_count": 5,
   "metadata": {},
   "outputs": [],
   "source": [
    "# imprimir nombres columnas y número filas x columnas x archivo\n",
    "oily_giant_list = [region_0, region_1, region_2]"
   ]
  },
  {
   "cell_type": "code",
   "execution_count": 6,
   "metadata": {
    "scrolled": false
   },
   "outputs": [
    {
     "name": "stdout",
     "output_type": "stream",
     "text": [
      "Oily Giant region_0 info:\n"
     ]
    },
    {
     "data": {
      "text/html": [
       "<div>\n",
       "<style scoped>\n",
       "    .dataframe tbody tr th:only-of-type {\n",
       "        vertical-align: middle;\n",
       "    }\n",
       "\n",
       "    .dataframe tbody tr th {\n",
       "        vertical-align: top;\n",
       "    }\n",
       "\n",
       "    .dataframe thead th {\n",
       "        text-align: right;\n",
       "    }\n",
       "</style>\n",
       "<table border=\"1\" class=\"dataframe\">\n",
       "  <thead>\n",
       "    <tr style=\"text-align: right;\">\n",
       "      <th></th>\n",
       "      <th>id</th>\n",
       "      <th>f0</th>\n",
       "      <th>f1</th>\n",
       "      <th>f2</th>\n",
       "      <th>product</th>\n",
       "    </tr>\n",
       "  </thead>\n",
       "  <tbody>\n",
       "    <tr>\n",
       "      <th>0</th>\n",
       "      <td>txEyH</td>\n",
       "      <td>0.705745</td>\n",
       "      <td>-0.497823</td>\n",
       "      <td>1.221170</td>\n",
       "      <td>105.280062</td>\n",
       "    </tr>\n",
       "    <tr>\n",
       "      <th>1</th>\n",
       "      <td>2acmU</td>\n",
       "      <td>1.334711</td>\n",
       "      <td>-0.340164</td>\n",
       "      <td>4.365080</td>\n",
       "      <td>73.037750</td>\n",
       "    </tr>\n",
       "    <tr>\n",
       "      <th>2</th>\n",
       "      <td>409Wp</td>\n",
       "      <td>1.022732</td>\n",
       "      <td>0.151990</td>\n",
       "      <td>1.419926</td>\n",
       "      <td>85.265647</td>\n",
       "    </tr>\n",
       "    <tr>\n",
       "      <th>3</th>\n",
       "      <td>iJLyR</td>\n",
       "      <td>-0.032172</td>\n",
       "      <td>0.139033</td>\n",
       "      <td>2.978566</td>\n",
       "      <td>168.620776</td>\n",
       "    </tr>\n",
       "    <tr>\n",
       "      <th>4</th>\n",
       "      <td>Xdl7t</td>\n",
       "      <td>1.988431</td>\n",
       "      <td>0.155413</td>\n",
       "      <td>4.751769</td>\n",
       "      <td>154.036647</td>\n",
       "    </tr>\n",
       "  </tbody>\n",
       "</table>\n",
       "</div>"
      ],
      "text/plain": [
       "      id        f0        f1        f2     product\n",
       "0  txEyH  0.705745 -0.497823  1.221170  105.280062\n",
       "1  2acmU  1.334711 -0.340164  4.365080   73.037750\n",
       "2  409Wp  1.022732  0.151990  1.419926   85.265647\n",
       "3  iJLyR -0.032172  0.139033  2.978566  168.620776\n",
       "4  Xdl7t  1.988431  0.155413  4.751769  154.036647"
      ]
     },
     "metadata": {},
     "output_type": "display_data"
    },
    {
     "name": "stdout",
     "output_type": "stream",
     "text": [
      "\n",
      "<class 'pandas.core.frame.DataFrame'>\n",
      "RangeIndex: 100000 entries, 0 to 99999\n",
      "Data columns (total 5 columns):\n",
      " #   Column   Non-Null Count   Dtype  \n",
      "---  ------   --------------   -----  \n",
      " 0   id       100000 non-null  object \n",
      " 1   f0       100000 non-null  float64\n",
      " 2   f1       100000 non-null  float64\n",
      " 3   f2       100000 non-null  float64\n",
      " 4   product  100000 non-null  float64\n",
      "dtypes: float64(4), object(1)\n",
      "memory usage: 3.8+ MB\n",
      "None\n",
      "\n",
      "                  f0             f1             f2        product\n",
      "count  100000.000000  100000.000000  100000.000000  100000.000000\n",
      "mean        0.500419       0.250143       2.502647      92.500000\n",
      "std         0.871832       0.504433       3.248248      44.288691\n",
      "min        -1.408605      -0.848218     -12.088328       0.000000\n",
      "25%        -0.072580      -0.200881       0.287748      56.497507\n",
      "50%         0.502360       0.250252       2.515969      91.849972\n",
      "75%         1.073581       0.700646       4.715088     128.564089\n",
      "max         2.362331       1.343769      16.003790     185.364347\n",
      "\n",
      "Oily Giant region_1 info:\n"
     ]
    },
    {
     "data": {
      "text/html": [
       "<div>\n",
       "<style scoped>\n",
       "    .dataframe tbody tr th:only-of-type {\n",
       "        vertical-align: middle;\n",
       "    }\n",
       "\n",
       "    .dataframe tbody tr th {\n",
       "        vertical-align: top;\n",
       "    }\n",
       "\n",
       "    .dataframe thead th {\n",
       "        text-align: right;\n",
       "    }\n",
       "</style>\n",
       "<table border=\"1\" class=\"dataframe\">\n",
       "  <thead>\n",
       "    <tr style=\"text-align: right;\">\n",
       "      <th></th>\n",
       "      <th>id</th>\n",
       "      <th>f0</th>\n",
       "      <th>f1</th>\n",
       "      <th>f2</th>\n",
       "      <th>product</th>\n",
       "    </tr>\n",
       "  </thead>\n",
       "  <tbody>\n",
       "    <tr>\n",
       "      <th>0</th>\n",
       "      <td>kBEdx</td>\n",
       "      <td>-15.001348</td>\n",
       "      <td>-8.276000</td>\n",
       "      <td>-0.005876</td>\n",
       "      <td>3.179103</td>\n",
       "    </tr>\n",
       "    <tr>\n",
       "      <th>1</th>\n",
       "      <td>62mP7</td>\n",
       "      <td>14.272088</td>\n",
       "      <td>-3.475083</td>\n",
       "      <td>0.999183</td>\n",
       "      <td>26.953261</td>\n",
       "    </tr>\n",
       "    <tr>\n",
       "      <th>2</th>\n",
       "      <td>vyE1P</td>\n",
       "      <td>6.263187</td>\n",
       "      <td>-5.948386</td>\n",
       "      <td>5.001160</td>\n",
       "      <td>134.766305</td>\n",
       "    </tr>\n",
       "    <tr>\n",
       "      <th>3</th>\n",
       "      <td>KcrkZ</td>\n",
       "      <td>-13.081196</td>\n",
       "      <td>-11.506057</td>\n",
       "      <td>4.999415</td>\n",
       "      <td>137.945408</td>\n",
       "    </tr>\n",
       "    <tr>\n",
       "      <th>4</th>\n",
       "      <td>AHL4O</td>\n",
       "      <td>12.702195</td>\n",
       "      <td>-8.147433</td>\n",
       "      <td>5.004363</td>\n",
       "      <td>134.766305</td>\n",
       "    </tr>\n",
       "  </tbody>\n",
       "</table>\n",
       "</div>"
      ],
      "text/plain": [
       "      id         f0         f1        f2     product\n",
       "0  kBEdx -15.001348  -8.276000 -0.005876    3.179103\n",
       "1  62mP7  14.272088  -3.475083  0.999183   26.953261\n",
       "2  vyE1P   6.263187  -5.948386  5.001160  134.766305\n",
       "3  KcrkZ -13.081196 -11.506057  4.999415  137.945408\n",
       "4  AHL4O  12.702195  -8.147433  5.004363  134.766305"
      ]
     },
     "metadata": {},
     "output_type": "display_data"
    },
    {
     "name": "stdout",
     "output_type": "stream",
     "text": [
      "\n",
      "<class 'pandas.core.frame.DataFrame'>\n",
      "RangeIndex: 100000 entries, 0 to 99999\n",
      "Data columns (total 5 columns):\n",
      " #   Column   Non-Null Count   Dtype  \n",
      "---  ------   --------------   -----  \n",
      " 0   id       100000 non-null  object \n",
      " 1   f0       100000 non-null  float64\n",
      " 2   f1       100000 non-null  float64\n",
      " 3   f2       100000 non-null  float64\n",
      " 4   product  100000 non-null  float64\n",
      "dtypes: float64(4), object(1)\n",
      "memory usage: 3.8+ MB\n",
      "None\n",
      "\n",
      "                  f0             f1             f2        product\n",
      "count  100000.000000  100000.000000  100000.000000  100000.000000\n",
      "mean        1.141296      -4.796579       2.494541      68.825000\n",
      "std         8.965932       5.119872       1.703572      45.944423\n",
      "min       -31.609576     -26.358598      -0.018144       0.000000\n",
      "25%        -6.298551      -8.267985       1.000021      26.953261\n",
      "50%         1.153055      -4.813172       2.011479      57.085625\n",
      "75%         8.621015      -1.332816       3.999904     107.813044\n",
      "max        29.421755      18.734063       5.019721     137.945408\n",
      "\n",
      "Oily Giant region_2 info:\n"
     ]
    },
    {
     "data": {
      "text/html": [
       "<div>\n",
       "<style scoped>\n",
       "    .dataframe tbody tr th:only-of-type {\n",
       "        vertical-align: middle;\n",
       "    }\n",
       "\n",
       "    .dataframe tbody tr th {\n",
       "        vertical-align: top;\n",
       "    }\n",
       "\n",
       "    .dataframe thead th {\n",
       "        text-align: right;\n",
       "    }\n",
       "</style>\n",
       "<table border=\"1\" class=\"dataframe\">\n",
       "  <thead>\n",
       "    <tr style=\"text-align: right;\">\n",
       "      <th></th>\n",
       "      <th>id</th>\n",
       "      <th>f0</th>\n",
       "      <th>f1</th>\n",
       "      <th>f2</th>\n",
       "      <th>product</th>\n",
       "    </tr>\n",
       "  </thead>\n",
       "  <tbody>\n",
       "    <tr>\n",
       "      <th>0</th>\n",
       "      <td>fwXo0</td>\n",
       "      <td>-1.146987</td>\n",
       "      <td>0.963328</td>\n",
       "      <td>-0.828965</td>\n",
       "      <td>27.758673</td>\n",
       "    </tr>\n",
       "    <tr>\n",
       "      <th>1</th>\n",
       "      <td>WJtFt</td>\n",
       "      <td>0.262778</td>\n",
       "      <td>0.269839</td>\n",
       "      <td>-2.530187</td>\n",
       "      <td>56.069697</td>\n",
       "    </tr>\n",
       "    <tr>\n",
       "      <th>2</th>\n",
       "      <td>ovLUW</td>\n",
       "      <td>0.194587</td>\n",
       "      <td>0.289035</td>\n",
       "      <td>-5.586433</td>\n",
       "      <td>62.871910</td>\n",
       "    </tr>\n",
       "    <tr>\n",
       "      <th>3</th>\n",
       "      <td>q6cA6</td>\n",
       "      <td>2.236060</td>\n",
       "      <td>-0.553760</td>\n",
       "      <td>0.930038</td>\n",
       "      <td>114.572842</td>\n",
       "    </tr>\n",
       "    <tr>\n",
       "      <th>4</th>\n",
       "      <td>WPMUX</td>\n",
       "      <td>-0.515993</td>\n",
       "      <td>1.716266</td>\n",
       "      <td>5.899011</td>\n",
       "      <td>149.600746</td>\n",
       "    </tr>\n",
       "  </tbody>\n",
       "</table>\n",
       "</div>"
      ],
      "text/plain": [
       "      id        f0        f1        f2     product\n",
       "0  fwXo0 -1.146987  0.963328 -0.828965   27.758673\n",
       "1  WJtFt  0.262778  0.269839 -2.530187   56.069697\n",
       "2  ovLUW  0.194587  0.289035 -5.586433   62.871910\n",
       "3  q6cA6  2.236060 -0.553760  0.930038  114.572842\n",
       "4  WPMUX -0.515993  1.716266  5.899011  149.600746"
      ]
     },
     "metadata": {},
     "output_type": "display_data"
    },
    {
     "name": "stdout",
     "output_type": "stream",
     "text": [
      "\n",
      "<class 'pandas.core.frame.DataFrame'>\n",
      "RangeIndex: 100000 entries, 0 to 99999\n",
      "Data columns (total 5 columns):\n",
      " #   Column   Non-Null Count   Dtype  \n",
      "---  ------   --------------   -----  \n",
      " 0   id       100000 non-null  object \n",
      " 1   f0       100000 non-null  float64\n",
      " 2   f1       100000 non-null  float64\n",
      " 3   f2       100000 non-null  float64\n",
      " 4   product  100000 non-null  float64\n",
      "dtypes: float64(4), object(1)\n",
      "memory usage: 3.8+ MB\n",
      "None\n",
      "\n",
      "                  f0             f1             f2        product\n",
      "count  100000.000000  100000.000000  100000.000000  100000.000000\n",
      "mean        0.002023      -0.002081       2.495128      95.000000\n",
      "std         1.732045       1.730417       3.473445      44.749921\n",
      "min        -8.760004      -7.084020     -11.970335       0.000000\n",
      "25%        -1.162288      -1.174820       0.130359      59.450441\n",
      "50%         0.009424      -0.009482       2.484236      94.925613\n",
      "75%         1.158535       1.163678       4.858794     130.595027\n",
      "max         7.238262       7.844801      16.739402     190.029838\n",
      "\n"
     ]
    }
   ],
   "source": [
    "# revisión datos iniciales e impresión de tipos de datos\n",
    "for index, variable in enumerate(oily_giant_list): \n",
    "    print(f\"Oily Giant region_{index} info:\")\n",
    "    display(variable.head())\n",
    "    print(\"\")\n",
    "    print(variable.info())\n",
    "    print(\"\")\n",
    "    print(variable.describe())\n",
    "    print(\"\")"
   ]
  },
  {
   "cell_type": "markdown",
   "metadata": {},
   "source": [
    "Lo importante aquí a resaltar es que la información de cada uno de los archivos de los datos de exploración geológica de cada una de las tres regiones es distinta, y las tres características `f0`, `f1` y `f2` son completamente distintas a nivel estadístico.\n",
    "\n",
    "Adicional, vemos que todos los archivos están limpios, sin valores ausentes y con datos coherentes entre cada uno de las columnas. Por lo tanto, podemos ya implementar el modelo de predicción para nuestras bases de datos. "
   ]
  },
  {
   "cell_type": "markdown",
   "metadata": {},
   "source": [
    "## Aplicación del modelo de predicción"
   ]
  },
  {
   "cell_type": "markdown",
   "metadata": {},
   "source": [
    "### Entrenamiento e implementación del modelo para cada región"
   ]
  },
  {
   "cell_type": "markdown",
   "metadata": {},
   "source": [
    "Como tenemos tres bases de datos (las tres regiones), y debemos implementar los mismos pasos para cada uno de las regiones, vamos a crear una función que realice lo mismo. \n",
    "\n",
    "Creamos la función `train_and_test` que tiene como argumento el dataframe de cada región. A continuación detallamos los pasos de la función que haría para cada dataframe: \n",
    "- Extrae las características y el objetivo del conjunto de datos. \n",
    "- Divide el conjunto de datos en conjuntos de entrenamiento y validación (75% entrenamiento y 25% validación).\n",
    "- Crea un modelo de regresión lineal.\n",
    "- Entrena el modelo utilizando el conjunto de entrenamiento.\n",
    "- Realiza predicciones en el conjunto de validación.\n",
    "- Calcula lo siguiente: \n",
    "    - Raíz del error cuadrático medio (RMSE): medida de precisión que indica qué tan cerca están las predicciones del modelo de los valores reales. Cuanto menor sea menor el valor de RMSE mejor será el ajuste del modelo de los datos.  \n",
    "    - Volumen promedio de las reservas: varía según cada región. \n",
    "- Devuelve las predicciones, los valores reales y los cálculos del RMSE y volumen promedio. "
   ]
  },
  {
   "cell_type": "code",
   "execution_count": 7,
   "metadata": {},
   "outputs": [],
   "source": [
    "# función de entrenamiento y prueba\n",
    "def train_and_test(region_data):\n",
    "    # extraer features y target del conjunto de datos\n",
    "    features = region_data.drop(['id', 'product'], axis=1)\n",
    "    target = region_data['product']\n",
    "\n",
    "    # división en conjuntos de entrenamiento (75%) y validación (25%) .\n",
    "    X_train, X_valid, y_train, y_valid = train_test_split(features, target, test_size=0.25, random_state=42)\n",
    "\n",
    "    # modelo de regresión lineal\n",
    "    model = LinearRegression()\n",
    "\n",
    "    # entrenamiento del modelo con el conjunto de entrenamiento\n",
    "    model.fit(X_train, y_train)\n",
    "\n",
    "    # predicciones conjunto de validación\n",
    "    predictions = model.predict(X_valid)\n",
    "\n",
    "    # cálculo (RMSE) para la precisión del modelo\n",
    "    rmse = mean_squared_error(y_valid, predictions, squared=False)\n",
    "\n",
    "    # cálculo del volumen promedio de las reservas predichas\n",
    "    average_volume = predictions.mean()\n",
    "\n",
    "    # devuelve las predicciones, los valores reales, el RMSE y el volumen promedio\n",
    "    return predictions, y_valid, rmse, average_volume"
   ]
  },
  {
   "cell_type": "markdown",
   "metadata": {},
   "source": [
    "Implementamos la función en las tres regiones y verifcamos los valores de RMSE y volumen promedio. "
   ]
  },
  {
   "cell_type": "code",
   "execution_count": 8,
   "metadata": {},
   "outputs": [],
   "source": [
    "# obtención de predicciones, valores reales, RMSE y volumen promedio para cada región\n",
    "predictions_0, y_valid_0, rmse_0, avg_vol_0 = train_and_test(region_0)\n",
    "predictions_1, y_valid_1, rmse_1, avg_vol_1 = train_and_test(region_1)\n",
    "predictions_2, y_valid_2, rmse_2, avg_vol_2 = train_and_test(region_2)"
   ]
  },
  {
   "cell_type": "code",
   "execution_count": 9,
   "metadata": {},
   "outputs": [
    {
     "name": "stdout",
     "output_type": "stream",
     "text": [
      "Región 0: RMSE = 37.756600350261685 Volumen promedio = 92.3987999065777\n",
      "Región 1: RMSE = 0.890280100102884 Volumen promedio = 68.71287803913762\n",
      "Región 2: RMSE = 40.14587231134218 Volumen promedio = 94.77102387765939\n"
     ]
    }
   ],
   "source": [
    "# impresión de valores\n",
    "print(\"Región 0: RMSE =\", rmse_0, \"Volumen promedio =\", avg_vol_0)\n",
    "print(\"Región 1: RMSE =\", rmse_1, \"Volumen promedio =\", avg_vol_1)\n",
    "print(\"Región 2: RMSE =\", rmse_2, \"Volumen promedio =\", avg_vol_2)"
   ]
  },
  {
   "cell_type": "markdown",
   "metadata": {},
   "source": [
    "En base a los siguientes resultados, la región 1 es el que mejor RMSE se obtiene, lo que indica que las predicciones para esta región son más precisas que las otras dos regiones (región 0 y región 2). \n",
    "\n",
    "En cambio en la región 0 y 2 son las que mayor volumen promedio de reservas tienen en comparación con la región 1. Esto podría implicar que hay más reservas de petróleo disponibles en estas dos regiones en comparación con la región 1. Si el objetivo es maximizar las reservas de petróleo, entonces la región 0 o la región 2 podrían ser opciones más atractivas."
   ]
  },
  {
   "cell_type": "markdown",
   "metadata": {},
   "source": [
    "## Volumen de reservas para el equilibrio"
   ]
  },
  {
   "cell_type": "markdown",
   "metadata": {},
   "source": [
    "Para realizar el cálculo de todas las ganancias, se debe establecer las variables clave para realizar los cálculos: \n",
    "1. `budget`: presupuesto total para el desarrollo de pozos petroleros, es de 100 millones de dólares.\n",
    "2. `revenue_per_unit`: ingreso generado por un barril de petróleo, es de 4.5 USD. Dado que el volumen de reservas está en miles de barriles, el ingreso por unidad de producto es de 4500 dólares.\n",
    "3. `wells_to_develop`: número de pozos petroleros que se planea desarrollar, es de 200 pozos."
   ]
  },
  {
   "cell_type": "code",
   "execution_count": 10,
   "metadata": {},
   "outputs": [],
   "source": [
    "# almacenamiento de valores en variables\n",
    "budget = 100000000\n",
    "revenue_per_unit = 4500\n",
    "wells_to_develop = 200"
   ]
  },
  {
   "cell_type": "markdown",
   "metadata": {},
   "source": [
    "En base a estos valores, calculamos el volumen de reservas suficiente para desarrollar un nuevo pozo sin pérdidas, utilizando la siguiente fórmula: "
   ]
  },
  {
   "cell_type": "code",
   "execution_count": 11,
   "metadata": {},
   "outputs": [
    {
     "name": "stdout",
     "output_type": "stream",
     "text": [
      "Volumen de reservas necesario para equilibrio: 111.11111111111111\n"
     ]
    }
   ],
   "source": [
    "# cálculo de volumen para un pozo sin pérdidas\n",
    "break_even_volume = budget / (revenue_per_unit * wells_to_develop)\n",
    "print(\"Volumen de reservas necesario para equilibrio:\", break_even_volume)"
   ]
  },
  {
   "cell_type": "markdown",
   "metadata": {},
   "source": [
    "Necesitamos tener un volumen de reservas de 111.11 para poder desarrollar un nuevo pozo sin pérdidas. Ahora comparemos este valor en base al volumen promedio de cada una de las regiones para ver qué región es más factible para el desarrollo de un nuevo pozo. "
   ]
  },
  {
   "cell_type": "code",
   "execution_count": 12,
   "metadata": {},
   "outputs": [
    {
     "name": "stdout",
     "output_type": "stream",
     "text": [
      "Región 0: Volumen promedio = 92.3987999065777\n",
      "Región 1: Volumen promedio = 68.71287803913762\n",
      "Región 2: Volumen promedio = 94.77102387765939\n"
     ]
    }
   ],
   "source": [
    "# volumen promedio por región\n",
    "print(\"Región 0: Volumen promedio =\", avg_vol_0)\n",
    "print(\"Región 1: Volumen promedio =\", avg_vol_1)\n",
    "print(\"Región 2: Volumen promedio =\", avg_vol_2)"
   ]
  },
  {
   "cell_type": "code",
   "execution_count": 13,
   "metadata": {},
   "outputs": [
    {
     "name": "stdout",
     "output_type": "stream",
     "text": [
      "Región 0: No factible para el desarrollo de pozos petroleros\n",
      "Región 1: No factible para el desarrollo de pozos petroleros\n",
      "Región 2: No factible para el desarrollo de pozos petroleros\n"
     ]
    }
   ],
   "source": [
    "# comparación del volumen necesario para el equilibrio con cada región (0 al 2)\n",
    "if break_even_volume < avg_vol_0:\n",
    "    print(\"Región 0: Factible para el desarrollo de pozos petroleros\")\n",
    "else:\n",
    "    print(\"Región 0: No factible para el desarrollo de pozos petroleros\")\n",
    "\n",
    "if break_even_volume < avg_vol_1:\n",
    "    print(\"Región 1: Factible para el desarrollo de pozos petroleros\")\n",
    "else:\n",
    "    print(\"Región 1: No factible para el desarrollo de pozos petroleros\")\n",
    "\n",
    "if break_even_volume < avg_vol_2:\n",
    "    print(\"Región 2: Factible para el desarrollo de pozos petroleros\")\n",
    "else:\n",
    "    print(\"Región 2: No factible para el desarrollo de pozos petroleros\")"
   ]
  },
  {
   "cell_type": "markdown",
   "metadata": {},
   "source": [
    "En base a los resultados obtenidos, ninguna de las regiones es factible el desarrollo de pozos petroleros, ya que el volumen promedio de reservas en cada región es menor que el volumen de reservas necesario para alcanzar el punto de equilibrio (111.111 barriles por pozo).\n",
    "\n",
    "Esto indica que, con los datos actuales, el desarrollo de pozos petroleros en cualquiera de las regiones no sería rentable, ya que el volumen promedio de reservas es insuficiente para cubrir los costos asociados al desarrollo de los pozos.\n",
    "\n",
    "Sería recomendable realizar un análisis más profundo de los datos y, si es posible, obtener información adicional sobre las reservas en cada región antes de tomar una decisión sobre el desarrollo de pozos petroleros. También se podría ajustar los parámetros del modelo, o incluso probar diferentes enfoques para mejorar las predicciones, y así obtener una mejor estimación de las reservas en cada región."
   ]
  },
  {
   "cell_type": "markdown",
   "metadata": {},
   "source": [
    "## Cálculo de ganancias"
   ]
  },
  {
   "cell_type": "markdown",
   "metadata": {},
   "source": [
    "Necesitamos calcular la ganancia esperada de desarrollar un conjunto de pozos de petróleo en una región específica, basándonos en las predicciones de volumen de reservas y teniendo en cuenta el presupuesto y los ingresos por unidad.\n",
    "\n",
    "Para esto, construimos la siguiente función `calculate_profit` que contiene los siguientes argumentos: \n",
    "\n",
    "1. `predictions`: tipo de dato serie de pandas que contiene las predicciones de volumen de reservas de petróleo para los pozos en una región. Estas predicciones se obtuvieron a partir del modelo de regresión lineal entrenado en los datos de esa región.\n",
    "\n",
    "2. `target`: tipo de dato serie de pandas que contiene los valores reales (verdaderos) del volumen de reservas de petróleo para los pozos en la misma región. Estos valores se utilizan para comparar con las predicciones y calcular el volumen total de reservas de los pozos seleccionados.\n",
    "\n",
    "3. `count`: número entero que indica la cantidad de pozos que se deben seleccionar para el desarrollo, basándose en las predicciones más altas. En este caso, se seleccionarán el número de pozos con las mayores predicciones de volumen de reservas, en este caso tiene como número 200.\n",
    "\n",
    "4. `revenue_per_unit`: número que representa el ingreso generado por cada unidad de volumen de petróleo extraído. Se utiliza para calcular los ingresos totales generados por los pozos seleccionados.\n",
    "\n",
    "5. `budget`: número que indica el presupuesto total asignado para el desarrollo de los pozos en una región. Se utiliza para calcular la ganancia, restando el presupuesto a los ingresos totales.\n",
    "\n",
    "6. `sample_size`: número entero, que está predeterminado en 500, que indica cuántos pozos se muestrearán aleatoriamente con reemplazo en cada iteración del proceso de bootstrap. \n",
    "\n",
    "7. `bootstrap_size`: número entero, que está predeterminado en 1000, que indica cuántas veces se realizará el proceso de bootstrap. "
   ]
  },
  {
   "cell_type": "code",
   "execution_count": 14,
   "metadata": {},
   "outputs": [],
   "source": [
    "def calculate_bootstrap_profit(predictions, target, count, revenue_per_unit, budget, sample_size=500, bootstrap_size=1000):\n",
    "    # se pasa a list para eliminar el índice anterior\n",
    "    predictions = pd.Series(list(predictions))\n",
    "    target = pd.Series(list(target))\n",
    "\n",
    "    profit_values = []\n",
    "    # for loop para el bootstrap\n",
    "    for i in range(bootstrap_size):\n",
    "        # selecciona 500 pozos al azar en la región\n",
    "        target_sample = target.sample(sample_size, replace=True)\n",
    "\n",
    "        # toma las 500 predicciones \n",
    "        predictions_sample = predictions.loc[target_sample.index]\n",
    "\n",
    "        # toma las 200 mejores predicciones\n",
    "        selected_wells = predictions_sample.sort_values(ascending=False)[:count]\n",
    "\n",
    "        # obtención de valores reales (target) según los pozos seleccionados\n",
    "        selected_target = target.reindex(selected_wells.index)\n",
    "\n",
    "        # cálculo del volumen total de reservas de los pozos seleccionados\n",
    "        total_volume = selected_target.sum()\n",
    "\n",
    "        # cálculo de los ingresos multiplicando el volumen total de reservas por el ingreso por unidad\n",
    "        revenue = total_volume * revenue_per_unit\n",
    "\n",
    "        # cálculo de la ganancia menos el presupuesto de los ingresos\n",
    "        profit = revenue - budget\n",
    "        \n",
    "        # se añade a lista vacía\n",
    "        profit_values.append(profit)\n",
    "\n",
    "    # convierte en un series\n",
    "    return pd.Series(profit_values)"
   ]
  },
  {
   "cell_type": "code",
   "execution_count": 15,
   "metadata": {},
   "outputs": [
    {
     "name": "stdout",
     "output_type": "stream",
     "text": [
      "Región 0: Ganancia promedio = 4080507.583958294\n",
      "Región 1: Ganancia promedio = 4394814.768183932\n",
      "Región 2: Ganancia promedio = 3737244.797004451\n"
     ]
    }
   ],
   "source": [
    "# se aplica la función para cada región, en base a la información anterior\n",
    "# tomar en cuenta que 0, 1 y 2 son cada una de las regiones\n",
    "# almacenamiento de valores en variables las variables: budget = 100000000, revenue_per_unit = 4500, wells_to_develop = 200\n",
    "bootstrap_profit_0 = calculate_bootstrap_profit(predictions_0, y_valid_0, wells_to_develop, revenue_per_unit, budget)\n",
    "bootstrap_profit_1 = calculate_bootstrap_profit(predictions_1, y_valid_1, wells_to_develop, revenue_per_unit, budget)\n",
    "bootstrap_profit_2 = calculate_bootstrap_profit(predictions_2, y_valid_2, wells_to_develop, revenue_per_unit, budget)\n",
    "\n",
    "# ganancia promedio de cada región\n",
    "average_profit_0 = bootstrap_profit_0.mean()\n",
    "average_profit_1 = bootstrap_profit_1.mean()\n",
    "average_profit_2 = bootstrap_profit_2.mean()\n",
    "\n",
    "print(\"Región 0: Ganancia promedio =\", average_profit_0)\n",
    "print(\"Región 1: Ganancia promedio =\", average_profit_1)\n",
    "print(\"Región 2: Ganancia promedio =\", average_profit_2)"
   ]
  },
  {
   "cell_type": "markdown",
   "metadata": {},
   "source": [
    "La ganancia promedio para la región 0 y 1 es más de 4 millones. Para el caso de la región 2 la ganancia es de 3.7 millones, ahora en base a estos cálculos, sugerimos qué región es mejor para el desarrollo de pozos petroleros. "
   ]
  },
  {
   "cell_type": "code",
   "execution_count": 16,
   "metadata": {},
   "outputs": [
    {
     "name": "stdout",
     "output_type": "stream",
     "text": [
      "Se sugiere la Región 1 para el desarrollo de pozos petroleros, con una ganancia estimada de 4394814.77\n"
     ]
    }
   ],
   "source": [
    "# ganancia máxima entre las tres regiones\n",
    "max_profit = max(average_profit_0, average_profit_1, average_profit_2)\n",
    "\n",
    "# qué región tiene la ganancia máxima\n",
    "if max_profit == average_profit_0:\n",
    "    chosen_region = \"Región 0\"\n",
    "elif max_profit == average_profit_1:\n",
    "    chosen_region = \"Región 1\"\n",
    "else:\n",
    "    chosen_region = \"Región 2\"\n",
    "\n",
    "# resultado\n",
    "print(\"Se sugiere la\", chosen_region, \"para el desarrollo de pozos petroleros, con una ganancia estimada de\", round(max_profit, 2))"
   ]
  },
  {
   "cell_type": "markdown",
   "metadata": {},
   "source": [
    "La Región 1 es la opción más rentable para el desarrollo de pozos petroleros, ya que presenta la mayor ganancia promedio estimada en comparación con las otras dos regiones. En este caso, se estima que la ganancia será de aproximadamente 4,470,199.72 unidades monetarias.\n",
    "\n",
    "Es importante tener en cuenta que estos resultados se basan en el análisis de datos históricos y en el método de bootstrap para estimar las ganancias en cada región. \n",
    "\n",
    "Aunque este enfoque puede proporcionar una buena orientación para la toma de decisiones, hay que resaltar que existe cierta incertidumbre en la predicción de resultados futuros. Para cualquier decicisión que se deba tomar, se debe considerar otros factores que puedan afectar en la toma de decisiones y realizar análisis adicionales."
   ]
  },
  {
   "cell_type": "markdown",
   "metadata": {},
   "source": [
    "## Cálculo de riesgos y ganancias para cada región"
   ]
  },
  {
   "cell_type": "markdown",
   "metadata": {},
   "source": [
    "Perfecto, como ya tenemos el cálculo de las ganancias, veamos ahora el riesgo de perdida. Para esto, se realizará una función que tomará como argumento la serie de valores de ganancia (calculada anteriormente), el cual calcula la ganancia promedio, el intervalo de confianza del 95% y el riesgo de pérdidas para esos valores. "
   ]
  },
  {
   "cell_type": "code",
   "execution_count": 17,
   "metadata": {},
   "outputs": [],
   "source": [
    "# cálculo de métricas de ganancia (promedio, intervalo de confianza y riesgo de pérdidas)\n",
    "def profit_metrics(profit_values):\n",
    "    # ganancia promedio\n",
    "    mean_profit = profit_values.mean()  \n",
    "    # intervalo de confianza del 95%\n",
    "    confidence_interval = np.percentile(profit_values, [2.5, 97.5])  \n",
    "    # riesgo de pérdidas en porcentaje\n",
    "    loss_risk = (profit_values < 0).mean() * 100  \n",
    "    # devuelve valores calculados\n",
    "    return mean_profit, confidence_interval, loss_risk"
   ]
  },
  {
   "cell_type": "markdown",
   "metadata": {},
   "source": [
    "Apliquemos la función para poder calcular las métricas. A partir de esto, se creará una lista llamada `regions` que contiene las métricas de ganancia para cada región. Con esto filtramos las regiones que tienen un riesgo de pérdidas inferior al 2.5% y almacenamos el resultado en una lista llamada `filtered_regions`. Seleccionamos la región con la ganancia promedio más alta entre las regiones filtradas, y almacenamos el resultado en una variable llamada `best_region`. Encontramos el índice de la región seleccionada en la lista original regions y lo almacenamos en una variable llamada `region_index`.\n",
    "\n",
    "En base a esto, podemos mostrar la región seleccionada, incluyendo la ganancia promedio, el intervalo de confianza del 95% y el riesgo de pérdidas."
   ]
  },
  {
   "cell_type": "code",
   "execution_count": 18,
   "metadata": {},
   "outputs": [
    {
     "name": "stdout",
     "output_type": "stream",
     "text": [
      "Se sugiere la Región 1 para el desarrollo de pozos petroleros.\n",
      "Ganancia promedio: 4394814.77\n",
      "Intervalo de confianza del 95%: [ 559527.65029479 8217835.45697761]\n",
      "Riesgo de pérdidas: 0.80%\n"
     ]
    }
   ],
   "source": [
    "# métricas de ganancia para cada región\n",
    "profit_metrics_0 = profit_metrics(bootstrap_profit_0)\n",
    "profit_metrics_1 = profit_metrics(bootstrap_profit_1)\n",
    "profit_metrics_2 = profit_metrics(bootstrap_profit_2)\n",
    "\n",
    "# lista de métricas de ganancia para cada región\n",
    "regions = [profit_metrics_0, profit_metrics_1, profit_metrics_2]\n",
    "\n",
    "# filtro de regiones que tienen un riesgo de pérdidas inferior al 2.5%\n",
    "filtered_regions = [region for region in regions if region[2] < 2.5]\n",
    "\n",
    "# región con ganancia promedio más alta \n",
    "best_region = max(filtered_regions, key=lambda x: x[0])\n",
    "\n",
    "# encontrar el índice de la región seleccionada \n",
    "region_index = regions.index(best_region)\n",
    "\n",
    "# mostrar información de la región seleccionada\n",
    "print(f\"Se sugiere la Región {region_index} para el desarrollo de pozos petroleros.\")\n",
    "print(f\"Ganancia promedio: {best_region[0]:.2f}\")\n",
    "print(f\"Intervalo de confianza del 95%: {best_region[1]}\")\n",
    "print(f\"Riesgo de pérdidas: {best_region[2]:.2f}%\")"
   ]
  },
  {
   "cell_type": "markdown",
   "metadata": {},
   "source": [
    "La Región 1 cumple con el criterio de riesgo de pérdida inferior al 2.5%, lo que indica que esta región tiene un riesgo de pérdida aceptablemente bajo según el criterio establecido. Por lo tanto, se concluye lo siguiente:\n",
    "\n",
    "- **Región seleccionada**: La Región 1 es la sugerida para el desarrollo de pozos petroleros, ya que tiene un riesgo de pérdidas del 1.3%, que es inferior al límite del 2.5%. Además, presenta una ganancia promedio de 4,470,199.72 y un intervalo de confianza del 95% entre 451,393.24 y 8,494,111.57.\n",
    "\n",
    "- **Evaluación de riesgo-beneficio**: es importante revisar el riesgo y el beneficio al tomar decisiones de inversión en la industria del petróleo y el gas. La Región 1 parece ser una opción sólida en función de estos criterios."
   ]
  },
  {
   "cell_type": "markdown",
   "metadata": {},
   "source": [
    "## Conclusiones"
   ]
  },
  {
   "cell_type": "markdown",
   "metadata": {},
   "source": [
    "En este proyecto se llevó a cabo varias etapas para evaluar el potencial de desarrollo de pozos petroleros en tres regiones diferentes, con el objetivo de seleccionar la mejor región para invertir. \n",
    "\n",
    "Se analizó y procesó los datos de producción de petróleo en las tres regiones para prepararlos para su uso en modelos de aprendizaje automático.\n",
    "\n",
    "Se entrenó el modelo de regresión lineal para cada región con el fin de predecir la producción de petróleo en los pozos. Luego, se utilizó el modelo para hacer predicciones en los conjuntos de datos de validación.\n",
    "\n",
    "Se implementó una función de beneficio para calcular las ganancias esperadas de desarrollar pozos petroleros en cada región, teniendo en cuenta los costos y las predicciones de producción.\n",
    "\n",
    "Se aplicó el método de bootstrapping para estimar la distribución de ganancias en cada región y se calculó el intervalo de confianza del 95% y el riesgo de pérdida para cada una.\n",
    "\n",
    "Se estableció un criterio de riesgo de pérdida inferior al 2.5% para seleccionar la mejor región para invertir. La región que cumplió con el criterio fue la Región 1 porque tenía un riesgo de pérdida del 1.30%. \n",
    "\n",
    "Finalmente la información de este proyecto proporcionó información valiosa sobre el rendimiento y el riesgo asociados con las inversiones en cada región. Esto puede servir para recomendar a la empresa e indicar qué región invertir para los pozos petroleros, tomando en cuenta que siempre hay otros factores que pueden influir. "
   ]
  }
 ],
 "metadata": {
  "kernelspec": {
   "display_name": "Python 3 (ipykernel)",
   "language": "python",
   "name": "python3"
  },
  "language_info": {
   "codemirror_mode": {
    "name": "ipython",
    "version": 3
   },
   "file_extension": ".py",
   "mimetype": "text/x-python",
   "name": "python",
   "nbconvert_exporter": "python",
   "pygments_lexer": "ipython3",
   "version": "3.11.3"
  },
  "toc": {
   "base_numbering": 1,
   "nav_menu": {},
   "number_sections": true,
   "sideBar": true,
   "skip_h1_title": true,
   "title_cell": "Tabla de Contenidos",
   "title_sidebar": "Contents",
   "toc_cell": true,
   "toc_position": {},
   "toc_section_display": true,
   "toc_window_display": false
  }
 },
 "nbformat": 4,
 "nbformat_minor": 2
}
